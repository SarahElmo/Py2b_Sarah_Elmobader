{
 "cells": [
  {
   "cell_type": "markdown",
   "metadata": {},
   "source": [
    "# Exercise 1c - Writing your first program. "
   ]
  },
  {
   "cell_type": "markdown",
   "metadata": {},
   "source": [
    "Hello and welcome to your first practical exercise with Jupyter Notebook. Your objective is to create a program that creates a meal using a list of ingredients. \n",
    "\n",
    "\n",
    "## Step One\n",
    "\n",
    "Run the cell below to create the *ingredients* list."
   ]
  },
  {
   "cell_type": "code",
   "execution_count": 9,
   "metadata": {},
   "outputs": [],
   "source": [
    "ingredients = [\"flour\", \"egg\", \"sugar\", \"milk\", \"salt\", \"water\", \"beef\", \"chicken\", \"peppers\", \"mushroom\", \"corn\", \"kebab\", \"rice\", \"beans\", \"peas\", \"turkey\", \"potato\", \"spinach\", \"mashed potatoes\", \"noodles\", \"ketchup\", \"almonds\", \"coconut\", \"beets\", \"strawberry\", \"apple\", \"shrimp\", \"garlic\", \"cheese\", \"onion\"]"
   ]
  },
  {
   "cell_type": "markdown",
   "metadata": {},
   "source": [
    "## Step Two\n",
    "\n",
    "We can now use the list *ingredients* to create our own custom meal. Create your meal below by creating a list of strings using at least 5 ingredients. The meal does not have to be yummy. \n",
    "**Hint:** use ingredients[x] where x is an integer between 0-29 to get an ingredient. "
   ]
  },
  {
   "cell_type": "code",
   "execution_count": 10,
   "metadata": {},
   "outputs": [],
   "source": [
    "meal = ingredients[1:6] #TODO\n",
    "\n",
    "# meal enters the list ingredients and picks the chosen ingredients.\n",
    "# 1:6 means it takes from 1 up to 6, but not 6. So the actual number is 1-5.\n",
    "# If you want the last variable, you can write -1, second last, -2, etc etc."
   ]
  },
  {
   "cell_type": "markdown",
   "metadata": {},
   "source": [
    "In the function *main* below, create a variable *meal_name*, which will represent the name of your meal. \n",
    "Then print *meal_name* and add a call to the *looper* function with your meal as an argument. We will complete the *looper* function in the next step.\n"
   ]
  },
  {
   "cell_type": "code",
   "execution_count": 11,
   "metadata": {},
   "outputs": [],
   "source": [
    "def main(): #TODO\n",
    "    meal_name = meal # my meal_name contains ingredients that are stored in meal (the chosen ones).\n",
    "\n",
    "    print(meal_name) # Here I am printing my ingredients in my meal_name\n",
    "\n",
    "    looper(meal_name) # looper() will be defined as a function later, and it requires an input. In this case we say that it will have meal_name as an input. \n",
    "    pass"
   ]
  },
  {
   "cell_type": "markdown",
   "metadata": {},
   "source": [
    "## Step Three\n",
    "\n",
    "The function *looper* will take a list *meal* as an argument, loop through it and print each element in the list. \n",
    "After the loop is done, add a call to the function *print_list* and complete that function as well. *print_list* takes the list *meal* as an argument and prints the whole list."
   ]
  },
  {
   "cell_type": "code",
   "execution_count": 7,
   "metadata": {},
   "outputs": [],
   "source": [
    "def looper(meal_list): #Here we define the looper and it should have any variable inside, in this case we call it \"meal_list\"\n",
    "    for element_list in meal_list: # We created a for loop saying that go through element by element in the meal_list\n",
    "        print(element_list)    # Now we ask to print these elements inside the for loop, so it does it element by element\n",
    "    print_list(meal_list)      # Now we pre-define a function that has the meal_list as a variable.\n",
    "    pass"
   ]
  },
  {
   "cell_type": "code",
   "execution_count": 8,
   "metadata": {},
   "outputs": [],
   "source": [
    "def print_list(my_ingredients): # Here we define our function print_list with a variable my_ingredients.\n",
    "    print(my_ingredients)    # We print my_ingredients that points towards meal_list and basically prints meal_list\n",
    "    pass"
   ]
  },
  {
   "cell_type": "markdown",
   "metadata": {},
   "source": [
    "## Step Four\n",
    "\n",
    "Finally, call the function *main* in the cell below and see what gets printed out. If you get an error, make sure that you have run all the necessary cells in the correct order before calling the *main* function. **Hint:** The function *main* calls the function *looper* which calls the function *print_list*. Make sure you have run the cells containing those functions before calling *main*. "
   ]
  },
  {
   "cell_type": "code",
   "execution_count": 13,
   "metadata": {},
   "outputs": [
    {
     "name": "stdout",
     "output_type": "stream",
     "text": [
      "['egg', 'sugar', 'milk', 'salt', 'water']\n",
      "egg\n",
      "sugar\n",
      "milk\n",
      "salt\n",
      "water\n",
      "['egg', 'sugar', 'milk', 'salt', 'water']\n"
     ]
    }
   ],
   "source": [
    "# Here we ask main() to run and show us each step.\n",
    "main()"
   ]
  },
  {
   "cell_type": "markdown",
   "metadata": {},
   "source": [
    "## When you are done:\n",
    "\n",
    "Good job on completing this exercise! You have learned how to run Python code in Jupyter Notebook and hopefully understood how running cells work. "
   ]
  }
 ],
 "metadata": {
  "kernelspec": {
   "display_name": "Python 3",
   "language": "python",
   "name": "python3"
  },
  "language_info": {
   "codemirror_mode": {
    "name": "ipython",
    "version": 3
   },
   "file_extension": ".py",
   "mimetype": "text/x-python",
   "name": "python",
   "nbconvert_exporter": "python",
   "pygments_lexer": "ipython3",
   "version": "3.8.5"
  }
 },
 "nbformat": 4,
 "nbformat_minor": 5
}
